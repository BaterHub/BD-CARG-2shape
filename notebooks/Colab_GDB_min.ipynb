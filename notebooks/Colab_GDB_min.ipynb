{
  "cells": [
    {
      "cell_type": "markdown",
      "metadata": {},
      "source": [
        "# CARG FileGDB to Shapefile (Colab Minimal)\n",
        "This notebook uses open libraries (GeoPandas/Fiona/Shapely/pyproj/dbfread)."
      ]
    },
    {
      "cell_type": "code",
      "execution_count": null,
      "metadata": {},
      "outputs": [],
      "source": [
        "# LOAD WORKSPACE: clone repo and set path\n",
        "import os, shutil, sys\n",
        "base_path = '/content'\n",
        "repo_name = 'BD-CARG-2shape'\n",
        "repo_url  = 'https://github.com/BaterHub/BD-CARG-2shape.git'\n",
        "repo_path = os.path.join(base_path, repo_name)\n",
        "if os.path.exists(repo_path):\n",
        "    shutil.rmtree(repo_path)\n",
        "%cd {base_path}\n",
        "!git clone {repo_url}\n",
        "%cd {repo_name}\n",
        "if repo_path not in sys.path: sys.path.append(repo_path)\n",
        "print('Repo ready:', repo_path)"
      ]
    },
    {
      "cell_type": "code",
      "execution_count": null,
      "metadata": {},
      "outputs": [],
      "source": [
        "# INSTALL DEPENDENCIES\n",
        "!pip -q install geopandas fiona shapely pyproj dbfread"
      ]
    },
    {
      "cell_type": "code",
      "execution_count": null,
      "metadata": {},
      "outputs": [],
      "source": [
        "# UPLOAD INPUT (mydata.gdb.zip) AND domini.zip\n",
        "from google.colab import files\n",
        "import zipfile, time\n",
        "workspace = '/content/workspace'\n",
        "os.makedirs(workspace, exist_ok=True)\n",
        "uploads = files.upload()\n",
        "gdb_path = ''\n",
        "for fn in uploads:\n",
        "    src = '/content/' + fn\n",
        "    dst = os.path.join(workspace, fn)\n",
        "    os.replace(src, dst)\n",
        "    if fn.lower().endswith('.gdb.zip'):\n",
        "        with zipfile.ZipFile(dst) as z:\n",
        "            z.extractall(workspace)\n",
        "        for root, dirs, _ in os.walk(workspace):\n",
        "            for d in dirs:\n",
        "                if d.lower().endswith('.gdb'):\n",
        "                    gdb_path = os.path.join(root, d)\n",
        "                    break\n",
        "    if fn.lower() == 'domini.zip':\n",
        "        with zipfile.ZipFile(dst) as z:\n",
        "            z.extractall(os.path.join(workspace, 'domini'))\n",
        "assert gdb_path.lower().endswith('.gdb'), 'Please upload a .gdb.zip file'\n",
        "domini_dir = os.path.join(workspace, 'domini')\n",
        "print('workspace:', workspace)\n",
        "print('gdb      :', gdb_path)\n",
        "print('domini   :', domini_dir, 'exists:', os.path.exists(domini_dir))"
      ]
    },
    {
      "cell_type": "code",
      "execution_count": null,
      "metadata": {},
      "outputs": [],
      "source": [
        "# RUN CONVERSION\n",
        "from openlibs.gdb_pipeline import process_gdb\n",
        "out_dir, count = process_gdb(gdb_path, domini_dir=domini_dir)\n",
        "print('Processed layers:', count)\n",
        "print('Output dir      :', out_dir)"
      ]
    },
    {
      "cell_type": "code",
      "execution_count": null,
      "metadata": {},
      "outputs": [],
      "source": [
        "# DOWNLOAD RESULTS\n",
        "import shutil\n",
        "from google.colab import files as colab_files\n",
        "zip_base = '/content/output'\n",
        "shutil.make_archive(zip_base, 'zip', out_dir)\n",
        "colab_files.download(zip_base + '.zip')"
      ]
    }
  ],
  "metadata": {
    "kernelspec": {"display_name": "Python 3", "language": "python", "name": "python3"},
    "language_info": {"name": "python", "version": "3"}
  },
  "nbformat": 4,
  "nbformat_minor": 2
}

